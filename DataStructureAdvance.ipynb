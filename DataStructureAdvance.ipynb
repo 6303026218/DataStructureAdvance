{
 "cells": [
  {
   "cell_type": "code",
   "execution_count": 1,
   "id": "1de4c987",
   "metadata": {},
   "outputs": [
    {
     "name": "stdout",
     "output_type": "stream",
     "text": [
      "SLLIKSWP\n"
     ]
    }
   ],
   "source": [
    "#code to reverse a string\n",
    "a=\"PWSKILLS\"\n",
    "rev=a[::-1]\n",
    "print(rev)"
   ]
  },
  {
   "cell_type": "code",
   "execution_count": 2,
   "id": "e58a319b",
   "metadata": {},
   "outputs": [
    {
     "name": "stdout",
     "output_type": "stream",
     "text": [
      "2\n"
     ]
    }
   ],
   "source": [
    "#code to count no of vowels in a string\n",
    "a=\"Vishnu\"\n",
    "b=['a','e','i','o','u']\n",
    "count=0\n",
    "for i in a:\n",
    "    if i in b:\n",
    "        count+=1\n",
    "print(count)"
   ]
  },
  {
   "cell_type": "code",
   "execution_count": 3,
   "id": "ace127a6",
   "metadata": {},
   "outputs": [
    {
     "name": "stdout",
     "output_type": "stream",
     "text": [
      "Given string is a palindrome\n"
     ]
    }
   ],
   "source": [
    "#code to check whether a string is palindrome or not\n",
    "a=\"MADAM\"\n",
    "if a==a[::-1]:\n",
    "    print(\"Given string is a palindrome\")\n",
    "else:\n",
    "    print(\"Given string is not a palindrome\")"
   ]
  },
  {
   "cell_type": "code",
   "execution_count": 4,
   "id": "b31db5f6",
   "metadata": {},
   "outputs": [
    {
     "name": "stdout",
     "output_type": "stream",
     "text": [
      "They are anagrams\n"
     ]
    }
   ],
   "source": [
    "#code to check whether they are anagrams or not\n",
    "a=\"Dog\"\n",
    "b=\"God\"\n",
    "str1=a.lower()\n",
    "str2=b.lower() \n",
    "if sorted(str1)==sorted(str2):\n",
    "    print(\"They are anagrams\")\n",
    "else:\n",
    "    print(\"They are not anagrams\")"
   ]
  },
  {
   "cell_type": "code",
   "execution_count": 5,
   "id": "90a1b4ba",
   "metadata": {},
   "outputs": [
    {
     "name": "stdout",
     "output_type": "stream",
     "text": [
      "The start indices of the substrings are : [2, 40]\n"
     ]
    }
   ],
   "source": [
    "test_str = \"Pwskills is good platform for upgrading skills\"\n",
    "\n",
    "\n",
    "test_sub = \"skills\"\n",
    "\n",
    "res = [i for i in range(len(test_str)) if test_str.startswith(test_sub, i)] \n",
    "\n",
    "\n",
    "print(\"The start indices of the substrings are : \" + str(res))"
   ]
  },
  {
   "cell_type": "code",
   "execution_count": 6,
   "id": "ecb37ae9",
   "metadata": {},
   "outputs": [
    {
     "name": "stdout",
     "output_type": "stream",
     "text": [
      "Original String: aaabbbccdaa\n",
      "Compressed String: a3b3c2da2\n"
     ]
    }
   ],
   "source": [
    "def compress_string(s):\n",
    "    if not s:\n",
    "        return \"\"\n",
    "\n",
    "    compressed = []\n",
    "    count = 1\n",
    "    for i in range(1, len(s)):\n",
    "        if s[i] == s[i - 1]:\n",
    "            count += 1\n",
    "        else:\n",
    "            compressed.append(s[i - 1] + (str(count) if count > 1 else \"\"))\n",
    "            count = 1\n",
    "    compressed.append(s[-1] + (str(count) if count > 1 else \"\"))\n",
    "    return ''.join(compressed)\n",
    "original_string = \"aaabbbccdaa\"\n",
    "compressed_string = compress_string(original_string)\n",
    "print(f\"Original String: {original_string}\")\n",
    "print(f\"Compressed String: {compressed_string}\")\n"
   ]
  },
  {
   "cell_type": "code",
   "execution_count": 7,
   "id": "4001a111",
   "metadata": {},
   "outputs": [
    {
     "name": "stdout",
     "output_type": "stream",
     "text": [
      "Does 'abcdef' have all unique characters? True\n",
      "Does 'aabbcc' have all unique characters? False\n"
     ]
    }
   ],
   "source": [
    "def has_unique_characters(s):\n",
    "    seen_characters = set()\n",
    "    for char in s:\n",
    "        if char in seen_characters:\n",
    "            return False\n",
    "        seen_characters.add(char)\n",
    "    return True\n",
    "string = \"abcdef\"\n",
    "print(f\"Does '{string}' have all unique characters? {has_unique_characters(string)}\")\n",
    "string2 = \"aabbcc\"\n",
    "print(f\"Does '{string2}' have all unique characters? {has_unique_characters(string2)}\")"
   ]
  },
  {
   "cell_type": "code",
   "execution_count": 8,
   "id": "c4002268",
   "metadata": {},
   "outputs": [
    {
     "name": "stdout",
     "output_type": "stream",
     "text": [
      "vishnuvardhan\n",
      "VISHNUVARDHAN\n"
     ]
    }
   ],
   "source": [
    "#converting string to upper case or lower case\n",
    "a=\"Vishnuvardhan\"\n",
    "b=a.lower()\n",
    "c=a.upper()\n",
    "print(b)\n",
    "print(c)"
   ]
  },
  {
   "cell_type": "code",
   "execution_count": 9,
   "id": "3cda4537",
   "metadata": {},
   "outputs": [
    {
     "name": "stdout",
     "output_type": "stream",
     "text": [
      "13\n"
     ]
    }
   ],
   "source": [
    "#counting no of characters in a string\n",
    "a=\"Vishnuvardhan\"\n",
    "b=len(a)\n",
    "print(b)"
   ]
  },
  {
   "cell_type": "code",
   "execution_count": 10,
   "id": "d639d5fb",
   "metadata": {},
   "outputs": [
    {
     "name": "stdout",
     "output_type": "stream",
     "text": [
      "Vishnuvardhan"
     ]
    }
   ],
   "source": [
    "a=\"Vishnu\"\n",
    "b=\"vardhan\"\n",
    "print(a,end=b)"
   ]
  },
  {
   "cell_type": "code",
   "execution_count": 11,
   "id": "bc88d10e",
   "metadata": {},
   "outputs": [
    {
     "name": "stdout",
     "output_type": "stream",
     "text": [
      "['hii', 'goodmorning']\n"
     ]
    }
   ],
   "source": [
    "#code to remove occurences of a specific element from a list\n",
    "a=['hello','hii','goodmorning','hello']\n",
    "for i in a:\n",
    "    if i==\"hello\":\n",
    "        a.remove(i)\n",
    "print(a)"
   ]
  },
  {
   "cell_type": "code",
   "execution_count": 12,
   "id": "1c0d640a",
   "metadata": {},
   "outputs": [
    {
     "name": "stdout",
     "output_type": "stream",
     "text": [
      "7\n"
     ]
    }
   ],
   "source": [
    "#code to find second highest number in a list of integers\n",
    "a=[1,3,4,2,6,8,7]\n",
    "b=max(a)\n",
    "a.remove(b)\n",
    "c=max(a)\n",
    "print(c)"
   ]
  },
  {
   "cell_type": "code",
   "execution_count": 13,
   "id": "66698286",
   "metadata": {},
   "outputs": [
    {
     "name": "stdout",
     "output_type": "stream",
     "text": [
      "{1: 1, 2: 2, 3: 1, 4: 3, 5: 1}\n"
     ]
    }
   ],
   "source": [
    "#code to find occurences of each string\n",
    "def count_elements(lst):\n",
    "    element_count = {}\n",
    "    for element in lst:\n",
    "        if element in element_count:\n",
    "            element_count[element] += 1\n",
    "        else:\n",
    "            element_count[element] = 1\n",
    "\n",
    "    return element_count\n",
    "list = [1, 2, 2, 3, 4, 4, 4, 5]\n",
    "counts = count_elements(list)\n",
    "print(counts)"
   ]
  },
  {
   "cell_type": "code",
   "execution_count": 14,
   "id": "a53eed92",
   "metadata": {},
   "outputs": [
    {
     "name": "stdout",
     "output_type": "stream",
     "text": [
      "[8, 7, 6, 5, 4, 3, 2, 1]\n"
     ]
    }
   ],
   "source": [
    "#reverse of a list without using built-in functions\n",
    "a=[1,2,3,4,5,6,7,8]\n",
    "b=len(a)\n",
    "c=[]\n",
    "for i in a:\n",
    "    c.append(a[len(a)-i])\n",
    "print(c)"
   ]
  },
  {
   "cell_type": "code",
   "execution_count": 15,
   "id": "1a47ec7a",
   "metadata": {},
   "outputs": [
    {
     "name": "stdout",
     "output_type": "stream",
     "text": [
      "[1, 2, 3, 4, 5]\n"
     ]
    }
   ],
   "source": [
    "#code to find and remove duplicates from a list\n",
    "def remove_duplicates(lst):\n",
    "    seen = set()\n",
    "    unique_list = []\n",
    "    for element in lst:\n",
    "        if element not in seen:\n",
    "            unique_list.append(element)\n",
    "            seen.add(element)\n",
    "\n",
    "    return unique_list\n",
    "example_list = [1, 2, 2, 3, 4, 4, 5, 1]\n",
    "result = remove_duplicates(example_list)\n",
    "print(result)"
   ]
  },
  {
   "cell_type": "code",
   "execution_count": 16,
   "id": "527672aa",
   "metadata": {},
   "outputs": [
    {
     "name": "stdout",
     "output_type": "stream",
     "text": [
      "The given list is not sorted\n"
     ]
    }
   ],
   "source": [
    "#code to find whether a list is sorted or not\n",
    "a=[1,2,3,5,4]\n",
    "b=a.sort()\n",
    "c=a.sort(reverse=True)\n",
    "if a==b or a==c:\n",
    "    print(\"The given list is sorted\")\n",
    "else:\n",
    "    print(\"The given list is not sorted\")"
   ]
  },
  {
   "cell_type": "code",
   "execution_count": 17,
   "id": "8997f2fd",
   "metadata": {},
   "outputs": [
    {
     "name": "stdout",
     "output_type": "stream",
     "text": [
      "[1, 2, 3, 4, 5, 6, 7, 8, 9]\n"
     ]
    }
   ],
   "source": [
    "#code to sort and merge two different lists\n",
    "a=[1,3,5,4,2]\n",
    "b=[8,6,9,7]\n",
    "a.sort()\n",
    "b.sort()\n",
    "print(a + b )"
   ]
  },
  {
   "cell_type": "code",
   "execution_count": 18,
   "id": "ad38c593",
   "metadata": {},
   "outputs": [
    {
     "name": "stdout",
     "output_type": "stream",
     "text": [
      "Intersection: [4, 5]\n"
     ]
    }
   ],
   "source": [
    "#code for finding intersection elements in two lists\n",
    "def intersection(lst1, lst2):\n",
    "    return [element for element in lst1 if element in lst2]\n",
    "list1 = [1, 2, 3, 4, 5]\n",
    "list2 = [4, 5, 6, 7, 8]\n",
    "\n",
    "result = intersection(list1, list2)\n",
    "print(\"Intersection:\", result)"
   ]
  },
  {
   "cell_type": "code",
   "execution_count": 19,
   "id": "be9e16b8",
   "metadata": {},
   "outputs": [
    {
     "name": "stdout",
     "output_type": "stream",
     "text": [
      "The resultant merged list is \n",
      "[23, 45, 65, 31, 1, 89, 67, 8, 90]\n"
     ]
    }
   ],
   "source": [
    "#Union of two sets without duplicates\n",
    "list1 = [23, 45, 65, 31, 1, 89]\n",
    "list2 = [67, 89, 23, 45, 8, 90]\n",
    "\n",
    "# Resultant list\n",
    "ans = []\n",
    "\n",
    "# Traversing the list item one by one \n",
    "for data in list1:\n",
    "\tif data not in ans:\n",
    "\t\tans.append(data)\n",
    "\t\t\n",
    "for data in list2:\n",
    "\tif data not in ans:\n",
    "\t\tans.append(data)\n",
    "\n",
    "print(\"The resultant merged list is \")\n",
    "print(ans)"
   ]
  },
  {
   "cell_type": "code",
   "execution_count": 20,
   "id": "a03f6b1b",
   "metadata": {},
   "outputs": [
    {
     "name": "stdout",
     "output_type": "stream",
     "text": [
      "Shuffled list: [4, 2, 3, 1, 5]\n"
     ]
    }
   ],
   "source": [
    "#Shuffling a list without using built-in functions\n",
    "import random\n",
    "\n",
    "def shuffle_list(lst):\n",
    "    # Iterate over the list in reverse order\n",
    "    for i in range(len(lst) - 1, 0, -1):\n",
    "        # Generate a random index\n",
    "        j = random.randint(0, i)\n",
    "        # Swap the elements at index i and j\n",
    "        lst[i], lst[j] = lst[j], lst[i]\n",
    "\n",
    "    return lst\n",
    "\n",
    "# Example usage\n",
    "example_list = [1, 2, 3, 4, 5]\n",
    "shuffled_list = shuffle_list(example_list.copy())  # Use copy() to preserve the original list\n",
    "print(\"Shuffled list:\", shuffled_list)\n"
   ]
  },
  {
   "cell_type": "code",
   "execution_count": 21,
   "id": "bbf1902a",
   "metadata": {},
   "outputs": [
    {
     "name": "stdout",
     "output_type": "stream",
     "text": [
      "(4, 5)\n"
     ]
    }
   ],
   "source": [
    "#code for common elements in two tuples\n",
    "list1 = [1, 2, 3, 4, 5]\n",
    "list2 = [4, 5, 6, 7, 8]\n",
    "common = tuple(x for x in list1 if x in list2)\n",
    "\n",
    "print(common)"
   ]
  },
  {
   "cell_type": "code",
   "execution_count": 22,
   "id": "9d442ab4",
   "metadata": {},
   "outputs": [
    {
     "name": "stdout",
     "output_type": "stream",
     "text": [
      "123\n",
      "2345\n",
      "{'2', '3'}\n"
     ]
    }
   ],
   "source": [
    "#intersection of two sets\n",
    "set1=set(input())\n",
    "set2=set(input())\n",
    "set3=set1 & set2\n",
    "print(set3)"
   ]
  },
  {
   "cell_type": "code",
   "execution_count": 23,
   "id": "b354086d",
   "metadata": {},
   "outputs": [
    {
     "name": "stdout",
     "output_type": "stream",
     "text": [
      "123\n",
      "456\n",
      "('1', '2', '3', '4', '5', '6')\n"
     ]
    }
   ],
   "source": [
    "#concatination of two tuples\n",
    "tuple1=tuple(input())\n",
    "tuple2=tuple(input())\n",
    "tuple3=tuple1+tuple2\n",
    "print(tuple3)"
   ]
  },
  {
   "cell_type": "code",
   "execution_count": 24,
   "id": "a5b26ab8",
   "metadata": {},
   "outputs": [
    {
     "name": "stdout",
     "output_type": "stream",
     "text": [
      "j k l\n",
      "h j n m\n",
      "{'k', 'l'}\n"
     ]
    }
   ],
   "source": [
    "a=input()\n",
    "b=input()\n",
    "set1=set(a)\n",
    "set2=set(b)\n",
    "set3=set1-set2\n",
    "print(set3)"
   ]
  },
  {
   "cell_type": "code",
   "execution_count": 25,
   "id": "1b7a4561",
   "metadata": {},
   "outputs": [
    {
     "name": "stdout",
     "output_type": "stream",
     "text": [
      "New tuple: (30, 40, 50)\n"
     ]
    }
   ],
   "source": [
    "def extract_range(tpl, start, end):\n",
    "    # Validate indices\n",
    "    if start < 0 or end > len(tpl) or start > end:\n",
    "        raise ValueError(\"Invalid indices. Ensure 0 <= start <= end <= len(tuple).\")\n",
    "    new_tuple = tpl[start:end]\n",
    "    return new_tuple\n",
    "original_tuple = (10, 20, 30, 40, 50, 60)\n",
    "start_index = 2\n",
    "end_index = 5\n",
    "result = extract_range(original_tuple, start_index, end_index)\n",
    "print(\"New tuple:\", result)\n"
   ]
  },
  {
   "cell_type": "code",
   "execution_count": 26,
   "id": "27dd903e",
   "metadata": {},
   "outputs": [
    {
     "name": "stdout",
     "output_type": "stream",
     "text": [
      "abcd\n",
      "efgh\n",
      "{'d', 'e', 'b', 'c', 'f', 'h', 'a', 'g'}\n"
     ]
    }
   ],
   "source": [
    "set1=set(input())\n",
    "set2=set(input())\n",
    "set3=set1.union(set2)\n",
    "print(set3)"
   ]
  },
  {
   "cell_type": "code",
   "execution_count": 27,
   "id": "978accdf",
   "metadata": {},
   "outputs": [
    {
     "name": "stdout",
     "output_type": "stream",
     "text": [
      "1234567\n",
      "7 1\n"
     ]
    }
   ],
   "source": [
    "z=tuple(input())\n",
    "a=max(z)\n",
    "b=min(z)\n",
    "print(a,b)"
   ]
  },
  {
   "cell_type": "code",
   "execution_count": 28,
   "id": "5eba5d45",
   "metadata": {},
   "outputs": [
    {
     "name": "stdout",
     "output_type": "stream",
     "text": [
      "12345\n",
      "34567\n",
      "{'7', '4', '6', '5', '2', '3', '1'}\n",
      "{'5', '4', '3'}\n",
      "{'1', '2'}\n"
     ]
    }
   ],
   "source": [
    "set1=set(input())\n",
    "set2=set(input())\n",
    "set3=set1.union(set2)\n",
    "set4=set1 & set2\n",
    "set5=set1 - set2\n",
    "print(set3)\n",
    "print(set4)\n",
    "print(set5)"
   ]
  },
  {
   "cell_type": "code",
   "execution_count": 29,
   "id": "309f0bf4",
   "metadata": {},
   "outputs": [
    {
     "name": "stdout",
     "output_type": "stream",
     "text": [
      "10\n",
      "Count of 10: 3\n"
     ]
    }
   ],
   "source": [
    "example_tuple = (10, 20, 30, 10, 20, 10)\n",
    "b=int(input())\n",
    "\n",
    "cou = example_tuple.count(b)\n",
    "\n",
    "\n",
    "print(\"Count of 10:\", cou)\n"
   ]
  },
  {
   "cell_type": "code",
   "execution_count": 30,
   "id": "f468259f",
   "metadata": {},
   "outputs": [
    {
     "name": "stdout",
     "output_type": "stream",
     "text": [
      "Enter the first set of comma-separated strings: apple,banana,orange\n",
      "Enter the second set of comma-separated strings: banana,orange,grape\n",
      "Symmetric difference: {'apple', 'grape'}\n"
     ]
    }
   ],
   "source": [
    "def input_set(prompt):\n",
    "    return set(input(prompt).split(','))\n",
    "set1 = input_set(\"Enter the first set of comma-separated strings: \")\n",
    "set2 = input_set(\"Enter the second set of comma-separated strings: \")\n",
    "symmetric_diff = set1 ^ set2\n",
    "print(\"Symmetric difference:\", symmetric_diff)\n"
   ]
  },
  {
   "cell_type": "code",
   "execution_count": 31,
   "id": "fa7bc6d1",
   "metadata": {},
   "outputs": [
    {
     "name": "stdout",
     "output_type": "stream",
     "text": [
      "{'apple': 3, 'banana': 2, 'orange': 1}\n"
     ]
    }
   ],
   "source": [
    "def word_frequencies(word_list):\n",
    "    frequency_dict = {}\n",
    "    for word in word_list:\n",
    "        if word in frequency_dict:\n",
    "            frequency_dict[word] += 1\n",
    "        else:\n",
    "            frequency_dict[word] = 1\n",
    "    return frequency_dict\n",
    "words = ['apple', 'banana', 'apple', 'orange', 'banana', 'apple']\n",
    "result = word_frequencies(words)\n",
    "print(result)\n"
   ]
  },
  {
   "cell_type": "code",
   "execution_count": 32,
   "id": "bb5d4e75",
   "metadata": {},
   "outputs": [
    {
     "name": "stdout",
     "output_type": "stream",
     "text": [
      "{'apple': 4, 'banana': 5, 'orange': 1, 'grape': 5}\n"
     ]
    }
   ],
   "source": [
    "def merge_dicts(dict1, dict2):\n",
    "    merged_dict = dict1.copy()\n",
    "    for key, value in dict2.items():\n",
    "        if key in merged_dict:\n",
    "            merged_dict[key] += value\n",
    "        else:\n",
    "            merged_dict[key] = value\n",
    "    return merged_dict\n",
    "dict1 = {'apple': 3, 'banana': 2, 'orange': 1}\n",
    "dict2 = {'banana': 3, 'grape': 5, 'apple': 1}\n",
    "\n",
    "result = merge_dicts(dict1, dict2)\n",
    "print(result)\n"
   ]
  },
  {
   "cell_type": "code",
   "execution_count": 33,
   "id": "cbdda842",
   "metadata": {},
   "outputs": [
    {
     "name": "stdout",
     "output_type": "stream",
     "text": [
      "42\n",
      "None\n"
     ]
    }
   ],
   "source": [
    "def get_nested_value(nested_dict, keys):\n",
    "    current_value = nested_dict\n",
    "\n",
    "    for key in keys:\n",
    "        if isinstance(current_value, dict) and key in current_value:\n",
    "            current_value = current_value[key]\n",
    "        else:\n",
    "            return None\n",
    "    \n",
    "    return current_value\n",
    "nested_dict = {\n",
    "    'a': {\n",
    "        'b': {\n",
    "            'c': 42\n",
    "        }\n",
    "    }\n",
    "}\n",
    "keys = ['a', 'b', 'c']\n",
    "result = get_nested_value(nested_dict, keys)\n",
    "print(result)\n",
    "keys = ['a', 'b', 'x']\n",
    "result = get_nested_value(nested_dict, keys)\n",
    "print(result)\n"
   ]
  },
  {
   "cell_type": "code",
   "execution_count": 34,
   "id": "1898350b",
   "metadata": {},
   "outputs": [
    {
     "name": "stdout",
     "output_type": "stream",
     "text": [
      "Original Dictionary: {'banana': 3, 'apple': 1, 'orange': 2}\n",
      "Sorted Dictionary : {'apple': 1, 'orange': 2, 'banana': 3}\n"
     ]
    }
   ],
   "source": [
    "def sort_dict_min(original_dict):\n",
    "    sorted_dict = {}\n",
    "    while original_dict:\n",
    "        min_key = min(original_dict, key=original_dict.get)\n",
    "        sorted_dict[min_key] = original_dict.pop(min_key)\n",
    "    return sorted_dict\n",
    "original_dict = {'banana': 3, 'apple': 1, 'orange': 2}\n",
    "print(\"Original Dictionary:\", original_dict)\n",
    "sorted_dict = sort_dict_min(original_dict)\n",
    "print(\"Sorted Dictionary :\", sorted_dict)"
   ]
  },
  {
   "cell_type": "code",
   "execution_count": 35,
   "id": "1ca42cc7",
   "metadata": {},
   "outputs": [
    {
     "name": "stdout",
     "output_type": "stream",
     "text": [
      "Original dictionary is : \n",
      "{'A': 67, 'B': 23, 'C': 45, 'D': 56, 'E': 12, 'F': 69, 'G': 67, 'H': 23}\n",
      "\n",
      "Dictionary after swapping is : \n",
      "keys: values\n",
      "67  :  G\n",
      "23  :  H\n",
      "45  :  C\n",
      "56  :  D\n",
      "12  :  E\n",
      "69  :  F\n"
     ]
    }
   ],
   "source": [
    "old_dict = {'A': 67, 'B': 23, 'C': 45, 'D': 56, 'E': 12, 'F': 69, 'G': 67, 'H': 23}\n",
    "new_dict = dict([(value, key) for key, value in old_dict.items()]) \n",
    "print (\"Original dictionary is : \")\n",
    "print(old_dict) \n",
    "print()\n",
    "print (\"Dictionary after swapping is : \") \n",
    "print(\"keys: values\")\n",
    "for i in new_dict:\n",
    "    print(i, \" : \", new_dict[i])"
   ]
  },
  {
   "cell_type": "code",
   "execution_count": null,
   "id": "87114925",
   "metadata": {},
   "outputs": [],
   "source": []
  }
 ],
 "metadata": {
  "kernelspec": {
   "display_name": "Python 3 (ipykernel)",
   "language": "python",
   "name": "python3"
  },
  "language_info": {
   "codemirror_mode": {
    "name": "ipython",
    "version": 3
   },
   "file_extension": ".py",
   "mimetype": "text/x-python",
   "name": "python",
   "nbconvert_exporter": "python",
   "pygments_lexer": "ipython3",
   "version": "3.10.9"
  }
 },
 "nbformat": 4,
 "nbformat_minor": 5
}
